{
 "cells": [
  {
   "cell_type": "markdown",
   "id": "6e9c45bf",
   "metadata": {},
   "source": [
    "# NUMPY"
   ]
  },
  {
   "cell_type": "markdown",
   "id": "1e18e67e",
   "metadata": {},
   "source": [
    "##### getting started by importing pip install numpy"
   ]
  },
  {
   "cell_type": "code",
   "execution_count": 1,
   "id": "5455e46a",
   "metadata": {},
   "outputs": [],
   "source": [
    "import numpy as np"
   ]
  },
  {
   "cell_type": "markdown",
   "id": "6c372f0b",
   "metadata": {},
   "source": [
    "### The Basics"
   ]
  },
  {
   "cell_type": "code",
   "execution_count": 2,
   "id": "fc880722",
   "metadata": {},
   "outputs": [
    {
     "name": "stdout",
     "output_type": "stream",
     "text": [
      "[1 2 3 6]\n"
     ]
    }
   ],
   "source": [
    "a= np.array([1,2,3,6])     #1-d array\n",
    "print(a)"
   ]
  },
  {
   "cell_type": "code",
   "execution_count": 3,
   "id": "537d548c",
   "metadata": {},
   "outputs": [
    {
     "name": "stdout",
     "output_type": "stream",
     "text": [
      "[[ 2  3  5]\n",
      " [50 90 43]]\n"
     ]
    }
   ],
   "source": [
    "b= np.array([[2,3,5],[50,90,43]])   #2-d array\n",
    "print(b)"
   ]
  },
  {
   "cell_type": "code",
   "execution_count": 4,
   "id": "b8aaba25",
   "metadata": {},
   "outputs": [
    {
     "data": {
      "text/plain": [
       "array([[1. , 2. , 3. ],\n",
       "       [8.9, 9.5, 9.1],\n",
       "       [0. , 0. , 0. ]])"
      ]
     },
     "execution_count": 4,
     "metadata": {},
     "output_type": "execute_result"
    }
   ],
   "source": [
    "c= np.array([[1.,2.,3.],[8.9,9.5,9.1],[0.0,0.0,0.0]])  #2-d array\n",
    "c\n",
    "#similarly you can get n-d arrays"
   ]
  },
  {
   "cell_type": "code",
   "execution_count": 5,
   "id": "8ae77d67",
   "metadata": {},
   "outputs": [
    {
     "data": {
      "text/plain": [
       "array([[[ 1,  2,  3],\n",
       "        [ 4,  5,  6]],\n",
       "\n",
       "       [[12, 23, 34],\n",
       "        [89, 90, 78]]])"
      ]
     },
     "execution_count": 5,
     "metadata": {},
     "output_type": "execute_result"
    }
   ],
   "source": [
    "d= np.array([[[1,2,3],[4,5,6]],[[12,23,34],[89,90,78]]]) #3-d array\n",
    "d"
   ]
  },
  {
   "cell_type": "code",
   "execution_count": 6,
   "id": "770ef450",
   "metadata": {},
   "outputs": [
    {
     "data": {
      "text/plain": [
       "3"
      ]
     },
     "execution_count": 6,
     "metadata": {},
     "output_type": "execute_result"
    }
   ],
   "source": [
    "#get Dimensions\n",
    "a.ndim\n",
    "c.ndim\n",
    "d.ndim"
   ]
  },
  {
   "cell_type": "code",
   "execution_count": 7,
   "id": "d8348b33",
   "metadata": {},
   "outputs": [
    {
     "data": {
      "text/plain": [
       "(2, 3)"
      ]
     },
     "execution_count": 7,
     "metadata": {},
     "output_type": "execute_result"
    }
   ],
   "source": [
    "#get shape of the array/configuration(no. of rows & column)of matrix\n",
    "b.shape"
   ]
  },
  {
   "cell_type": "code",
   "execution_count": 8,
   "id": "9b56f8ac",
   "metadata": {},
   "outputs": [
    {
     "data": {
      "text/plain": [
       "(2, 2, 3)"
      ]
     },
     "execution_count": 8,
     "metadata": {},
     "output_type": "execute_result"
    }
   ],
   "source": [
    "d.shape"
   ]
  },
  {
   "cell_type": "code",
   "execution_count": 9,
   "id": "61b3d65e",
   "metadata": {},
   "outputs": [
    {
     "data": {
      "text/plain": [
       "dtype('int64')"
      ]
     },
     "execution_count": 9,
     "metadata": {},
     "output_type": "execute_result"
    }
   ],
   "source": [
    "#get datatype of array\n",
    "d.dtype #default value int64"
   ]
  },
  {
   "cell_type": "code",
   "execution_count": 10,
   "id": "4dfed39b",
   "metadata": {},
   "outputs": [
    {
     "data": {
      "text/plain": [
       "dtype('float64')"
      ]
     },
     "execution_count": 10,
     "metadata": {},
     "output_type": "execute_result"
    }
   ],
   "source": [
    "c.dtype #default value float64"
   ]
  },
  {
   "cell_type": "code",
   "execution_count": 11,
   "id": "cf020984",
   "metadata": {},
   "outputs": [
    {
     "name": "stdout",
     "output_type": "stream",
     "text": [
      "int16\n"
     ]
    }
   ],
   "source": [
    "#changing default dtype \n",
    "a= np.array([1,3,6,9], dtype='int16')\n",
    "print(a.dtype)"
   ]
  },
  {
   "cell_type": "code",
   "execution_count": 12,
   "id": "3249025d",
   "metadata": {},
   "outputs": [
    {
     "data": {
      "text/plain": [
       "8"
      ]
     },
     "execution_count": 12,
     "metadata": {},
     "output_type": "execute_result"
    }
   ],
   "source": [
    " #amount of memory occupied by a single element\n",
    " d.itemsize  #itemsize 8 for 64, 4 for 32, 2 for 16\n"
   ]
  },
  {
   "cell_type": "code",
   "execution_count": 13,
   "id": "80cfd6ef",
   "metadata": {},
   "outputs": [
    {
     "data": {
      "text/plain": [
       "12"
      ]
     },
     "execution_count": 13,
     "metadata": {},
     "output_type": "execute_result"
    }
   ],
   "source": [
    "#gives the total number of elements\n",
    "a.size\n",
    "d.size"
   ]
  },
  {
   "cell_type": "code",
   "execution_count": 14,
   "id": "6bc5c537",
   "metadata": {},
   "outputs": [
    {
     "data": {
      "text/plain": [
       "96"
      ]
     },
     "execution_count": 14,
     "metadata": {},
     "output_type": "execute_result"
    }
   ],
   "source": [
    "#return the total memory occupied by all elements of array\n",
    "d.nbytes  #itemsize*size"
   ]
  },
  {
   "cell_type": "markdown",
   "id": "4802cbfb",
   "metadata": {},
   "source": [
    "### Accessing specific elements, rows, columns, etc"
   ]
  },
  {
   "cell_type": "code",
   "execution_count": 15,
   "id": "eb60024e",
   "metadata": {},
   "outputs": [
    {
     "name": "stdout",
     "output_type": "stream",
     "text": [
      "[[ 1  2  3  4  5  6  7  8  9]\n",
      " [91 88 77 60 50 44 33 12 11]]\n"
     ]
    }
   ],
   "source": [
    "arr= np.array([[1,2,3,4,5,6,7,8,9],[91,88,77,60,50,44,33,12,11]])\n",
    "print(arr)"
   ]
  },
  {
   "cell_type": "code",
   "execution_count": 16,
   "id": "0c109209",
   "metadata": {},
   "outputs": [
    {
     "data": {
      "text/plain": [
       "np.int64(50)"
      ]
     },
     "execution_count": 16,
     "metadata": {},
     "output_type": "execute_result"
    }
   ],
   "source": [
    "#get specific element [r,c] :50\n",
    "arr[1,4]\n"
   ]
  },
  {
   "cell_type": "code",
   "execution_count": 17,
   "id": "cc467bd1",
   "metadata": {},
   "outputs": [
    {
     "data": {
      "text/plain": [
       "array([91, 88, 77, 60, 50, 44, 33, 12, 11])"
      ]
     },
     "execution_count": 17,
     "metadata": {},
     "output_type": "execute_result"
    }
   ],
   "source": [
    "#get specific row\n",
    "arr[1, :]"
   ]
  },
  {
   "cell_type": "code",
   "execution_count": 18,
   "id": "959607da",
   "metadata": {},
   "outputs": [
    {
     "data": {
      "text/plain": [
       "array([ 6, 44])"
      ]
     },
     "execution_count": 18,
     "metadata": {},
     "output_type": "execute_result"
    }
   ],
   "source": [
    "#get specific column: 6,44\n",
    "arr[ :,5]"
   ]
  },
  {
   "cell_type": "code",
   "execution_count": 19,
   "id": "535987ef",
   "metadata": {},
   "outputs": [
    {
     "data": {
      "text/plain": [
       "array([2, 4, 6])"
      ]
     },
     "execution_count": 19,
     "metadata": {},
     "output_type": "execute_result"
    }
   ],
   "source": [
    "#getting a little fancy[startindex: endidx: stepsize]\n",
    "arr[0, 1:6:2] \n",
    "arr[0,1:-3:2] #negative indexing \n"
   ]
  },
  {
   "cell_type": "markdown",
   "id": "508c9cc3",
   "metadata": {},
   "source": [
    "### Changing  specific elements, rows, columns, etc"
   ]
  },
  {
   "cell_type": "code",
   "execution_count": 20,
   "id": "7b6f70a3",
   "metadata": {},
   "outputs": [
    {
     "name": "stdout",
     "output_type": "stream",
     "text": [
      "[[ 1  2  3  4  5  0  7  8  9]\n",
      " [91 88 77 60 50 44 33 12 11]]\n"
     ]
    }
   ],
   "source": [
    "arr[0,5]=0 #changing specific element\n",
    "print(arr)"
   ]
  },
  {
   "cell_type": "code",
   "execution_count": 21,
   "id": "2c4d5f30",
   "metadata": {},
   "outputs": [
    {
     "data": {
      "text/plain": [
       "array([[ 0,  2,  3,  4,  5,  0,  7,  8,  9],\n",
       "       [ 2, 88, 77, 60, 50, 44, 33, 12, 11]])"
      ]
     },
     "execution_count": 21,
     "metadata": {},
     "output_type": "execute_result"
    }
   ],
   "source": [
    "arr[: , 0]=[0,2]  #changing specific column\n",
    "arr"
   ]
  },
  {
   "cell_type": "markdown",
   "id": "cbeee58f",
   "metadata": {},
   "source": [
    "##### 3D Array"
   ]
  },
  {
   "cell_type": "code",
   "execution_count": 22,
   "id": "d0bc4c9a",
   "metadata": {},
   "outputs": [
    {
     "name": "stdout",
     "output_type": "stream",
     "text": [
      "[[[0.9  0.7  0.5  0.3 ]\n",
      "  [0.8  0.09 0.77 0.98]]\n",
      "\n",
      " [[0.21 1.2  2.2  3.5 ]\n",
      "  [7.8  8.9  0.   6.6 ]]]\n",
      "float64\n",
      "16\n",
      "(2, 2, 4)\n"
     ]
    }
   ],
   "source": [
    "arr2= np.array([[[0.9,0.7,0.5,0.3],[0.8,0.09,0.77,0.98]],[[0.21,1.2,2.2,3.5],[7.8,8.9,0.0,6.6]]])\n",
    "print(arr2)\n",
    "print(arr2.dtype)\n",
    "print(arr2.size)\n",
    "print(arr2.shape)"
   ]
  },
  {
   "cell_type": "code",
   "execution_count": 23,
   "id": "4fc36275",
   "metadata": {},
   "outputs": [
    {
     "data": {
      "text/plain": [
       "array([[0.9 , 0.7 , 0.5 , 0.3 ],\n",
       "       [0.8 , 0.09, 0.77, 0.98]])"
      ]
     },
     "execution_count": 23,
     "metadata": {},
     "output_type": "execute_result"
    }
   ],
   "source": [
    "arr2[0 , :, : ] #arr[k,i,j]"
   ]
  },
  {
   "cell_type": "code",
   "execution_count": 24,
   "id": "4a84d0af",
   "metadata": {},
   "outputs": [
    {
     "data": {
      "text/plain": [
       "array([[0.8 , 0.09, 0.77, 0.98],\n",
       "       [7.8 , 8.9 , 0.  , 6.6 ]])"
      ]
     },
     "execution_count": 24,
     "metadata": {},
     "output_type": "execute_result"
    }
   ],
   "source": [
    "arr2[ : , 1, :]"
   ]
  },
  {
   "cell_type": "code",
   "execution_count": 25,
   "id": "73694d86",
   "metadata": {},
   "outputs": [
    {
     "data": {
      "text/plain": [
       "np.float64(0.0)"
      ]
     },
     "execution_count": 25,
     "metadata": {},
     "output_type": "execute_result"
    }
   ],
   "source": [
    "arr2[1, 1, 2]"
   ]
  },
  {
   "cell_type": "code",
   "execution_count": 26,
   "id": "408f9086",
   "metadata": {},
   "outputs": [
    {
     "data": {
      "text/plain": [
       "array([[[0.9 , 0.7 , 0.5 , 0.3 ],\n",
       "        [0.  , 0.  , 0.  , 0.  ]],\n",
       "\n",
       "       [[0.21, 1.2 , 2.2 , 3.5 ],\n",
       "        [1.1 , 1.1 , 1.1 , 1.1 ]]])"
      ]
     },
     "execution_count": 26,
     "metadata": {},
     "output_type": "execute_result"
    }
   ],
   "source": [
    "#replace \n",
    "arr2[: , 1 ,:]= [[0.0,0.0,0.0,0.0],[1.1,1.1,1.1,1.1]]\n",
    "arr2"
   ]
  },
  {
   "cell_type": "code",
   "execution_count": 108,
   "id": "0b916355",
   "metadata": {},
   "outputs": [
    {
     "data": {
      "text/plain": [
       "array([ 1,  4, 90])"
      ]
     },
     "execution_count": 108,
     "metadata": {},
     "output_type": "execute_result"
    }
   ],
   "source": [
    "# you can index with a list in numpy\n",
    "lst = np.array([1,5,7,8,90,66,4,3])\n",
    "lst[[0,6,4]]"
   ]
  },
  {
   "cell_type": "markdown",
   "id": "ff8d897a",
   "metadata": {},
   "source": [
    "### Initializing Different Types of Arrays\n",
    "##### their default type = float"
   ]
  },
  {
   "cell_type": "code",
   "execution_count": 27,
   "id": "fb00be8f",
   "metadata": {},
   "outputs": [
    {
     "data": {
      "text/plain": [
       "array([[0., 0., 0., 0.],\n",
       "       [0., 0., 0., 0.]])"
      ]
     },
     "execution_count": 27,
     "metadata": {},
     "output_type": "execute_result"
    }
   ],
   "source": [
    "#all zeros matrix \n",
    "np.zeros((2,4))  #default 'float' type"
   ]
  },
  {
   "cell_type": "code",
   "execution_count": 28,
   "id": "a76a3423",
   "metadata": {},
   "outputs": [
    {
     "data": {
      "text/plain": [
       "array([[1, 1, 1, 1],\n",
       "       [1, 1, 1, 1],\n",
       "       [1, 1, 1, 1]])"
      ]
     },
     "execution_count": 28,
     "metadata": {},
     "output_type": "execute_result"
    }
   ],
   "source": [
    "#ones matrix\n",
    "np.ones((3,4), dtype=\"int64\")"
   ]
  },
  {
   "cell_type": "code",
   "execution_count": 29,
   "id": "d288e894",
   "metadata": {},
   "outputs": [
    {
     "data": {
      "text/plain": [
       "array([[99, 99, 99],\n",
       "       [99, 99, 99],\n",
       "       [99, 99, 99],\n",
       "       [99, 99, 99]])"
      ]
     },
     "execution_count": 29,
     "metadata": {},
     "output_type": "execute_result"
    }
   ],
   "source": [
    "# a matrix fully with a particular number\n",
    "np.full((4,3), 99)"
   ]
  },
  {
   "cell_type": "code",
   "execution_count": 30,
   "id": "556b92e5",
   "metadata": {},
   "outputs": [
    {
     "data": {
      "text/plain": [
       "array([[8, 8, 8, 8, 8, 8, 8, 8, 8],\n",
       "       [8, 8, 8, 8, 8, 8, 8, 8, 8]])"
      ]
     },
     "execution_count": 30,
     "metadata": {},
     "output_type": "execute_result"
    }
   ],
   "source": [
    "# a matrix with some similar shape as any other\n",
    "#  matrix but have a particular number\n",
    "\n",
    "np.full_like(arr , 8)"
   ]
  },
  {
   "cell_type": "code",
   "execution_count": 31,
   "id": "7cd4d3ea",
   "metadata": {},
   "outputs": [
    {
     "data": {
      "text/plain": [
       "array([[0.8002948 , 0.02655501, 0.96921022],\n",
       "       [0.11876012, 0.83617257, 0.07889334],\n",
       "       [0.50185555, 0.94466136, 0.05988194]])"
      ]
     },
     "execution_count": 31,
     "metadata": {},
     "output_type": "execute_result"
    }
   ],
   "source": [
    "np.random.rand(3, 3) #will give foating point numbers"
   ]
  },
  {
   "cell_type": "code",
   "execution_count": 32,
   "id": "4b4706f9",
   "metadata": {},
   "outputs": [
    {
     "data": {
      "text/plain": [
       "array([[[0.44335264, 0.36678264, 0.03237503],\n",
       "        [0.09133623, 0.90304662, 0.42761427]],\n",
       "\n",
       "       [[0.75701822, 0.06318393, 0.04681029],\n",
       "        [0.99557485, 0.03228268, 0.15390778]]])"
      ]
     },
     "execution_count": 32,
     "metadata": {},
     "output_type": "execute_result"
    }
   ],
   "source": [
    "np.random.random_sample(d.shape)"
   ]
  },
  {
   "cell_type": "code",
   "execution_count": 33,
   "id": "75e6993a",
   "metadata": {},
   "outputs": [
    {
     "data": {
      "text/plain": [
       "array([[2, 7, 7, 3],\n",
       "       [0, 4, 5, 4],\n",
       "       [4, 7, 6, 3],\n",
       "       [7, 7, 7, 3]], dtype=int32)"
      ]
     },
     "execution_count": 33,
     "metadata": {},
     "output_type": "execute_result"
    }
   ],
   "source": [
    "np.random.randint(8, size=(4,4)) \n",
    "#8 tells the nos. are within range 0 to 7 , \n",
    "# size tells size of matrix"
   ]
  },
  {
   "cell_type": "code",
   "execution_count": 34,
   "id": "448dab96",
   "metadata": {},
   "outputs": [
    {
     "data": {
      "text/plain": [
       "array([[1., 0., 0.],\n",
       "       [0., 1., 0.],\n",
       "       [0., 0., 1.]])"
      ]
     },
     "execution_count": 34,
     "metadata": {},
     "output_type": "execute_result"
    }
   ],
   "source": [
    "np.identity(3) \n",
    "#identity matrix is always a square matrix \n",
    "#so the parameter passed determines the number of ones."
   ]
  },
  {
   "cell_type": "code",
   "execution_count": 35,
   "id": "f7049627",
   "metadata": {},
   "outputs": [
    {
     "data": {
      "text/plain": [
       "array([[23, 45, 67],\n",
       "       [23, 45, 67],\n",
       "       [78, 90, 72],\n",
       "       [78, 90, 72]])"
      ]
     },
     "execution_count": 35,
     "metadata": {},
     "output_type": "execute_result"
    }
   ],
   "source": [
    "# repeat same elements of array \n",
    "A = np.array([[23,45,67],[78,90,72]])\n",
    "rep_A = np.repeat(A , 2, axis=0) \n",
    "rep_A"
   ]
  },
  {
   "cell_type": "markdown",
   "id": "1424ddab",
   "metadata": {},
   "source": [
    "###### axis =0(column) , axis= 1(row)"
   ]
  },
  {
   "cell_type": "code",
   "execution_count": 36,
   "id": "23b26533",
   "metadata": {},
   "outputs": [
    {
     "data": {
      "text/plain": [
       "array([[ 0,  0,  0,  2,  2,  2,  3,  3,  3,  4,  4,  4,  5,  5,  5,  0,\n",
       "         0,  0,  7,  7,  7,  8,  8,  8,  9,  9,  9],\n",
       "       [ 2,  2,  2, 88, 88, 88, 77, 77, 77, 60, 60, 60, 50, 50, 50, 44,\n",
       "        44, 44, 33, 33, 33, 12, 12, 12, 11, 11, 11]])"
      ]
     },
     "execution_count": 36,
     "metadata": {},
     "output_type": "execute_result"
    }
   ],
   "source": [
    "rep2= np.repeat(arr , 3, axis=1)\n",
    "rep2"
   ]
  },
  {
   "cell_type": "markdown",
   "id": "da74584c",
   "metadata": {},
   "source": [
    "## Question 1"
   ]
  },
  {
   "cell_type": "code",
   "execution_count": 37,
   "id": "552f28dc",
   "metadata": {},
   "outputs": [
    {
     "name": "stdout",
     "output_type": "stream",
     "text": [
      "[[1 1 1 1 1]\n",
      " [1 0 0 0 1]\n",
      " [1 0 9 0 1]\n",
      " [1 0 0 0 1]\n",
      " [1 1 1 1 1]]\n"
     ]
    }
   ],
   "source": [
    "arr1 = np.ones((5,5), dtype=\"int64\")\n",
    "arr2 = np.zeros((3,3), dtype=\"int64\")\n",
    "arr2[1,1]= 9\n",
    "arr1[1:4 , 1:4] = arr2\n",
    "print(arr1)"
   ]
  },
  {
   "cell_type": "markdown",
   "id": "08499cc3",
   "metadata": {},
   "source": [
    "####    Be careful when copying Arrays!!!!!"
   ]
  },
  {
   "cell_type": "code",
   "execution_count": 38,
   "id": "cb4eef97",
   "metadata": {},
   "outputs": [
    {
     "name": "stdout",
     "output_type": "stream",
     "text": [
      "[ 20 100  40  50]\n",
      "[20 30 40 50]\n"
     ]
    }
   ],
   "source": [
    "a= np.array([20,30,40,50])\n",
    "b=  a.copy()\n",
    "a[1]= 100\n",
    "print(a)\n",
    "print(b) \n",
    "#when we need two same arrays and\n",
    "#  we need to make changes, but also want to keep\n",
    "#the og array unchanged, we use 'copy()' function"
   ]
  },
  {
   "cell_type": "markdown",
   "id": "85f226af",
   "metadata": {},
   "source": [
    "## Mathematics"
   ]
  },
  {
   "cell_type": "code",
   "execution_count": 39,
   "id": "fe2db071",
   "metadata": {},
   "outputs": [
    {
     "name": "stdout",
     "output_type": "stream",
     "text": [
      "[1 2 3 5 6 8]\n"
     ]
    }
   ],
   "source": [
    "a= np.array([1,2,3,5,6,8])\n",
    "print(a)"
   ]
  },
  {
   "cell_type": "code",
   "execution_count": 40,
   "id": "691a9c76",
   "metadata": {},
   "outputs": [
    {
     "name": "stdout",
     "output_type": "stream",
     "text": [
      "[1 2 3 5 6 8]\n"
     ]
    }
   ],
   "source": [
    "a+ 2\n",
    "print(a)"
   ]
  },
  {
   "cell_type": "code",
   "execution_count": 41,
   "id": "86334717",
   "metadata": {},
   "outputs": [
    {
     "data": {
      "text/plain": [
       "array([-2, -1,  0,  2,  3,  5])"
      ]
     },
     "execution_count": 41,
     "metadata": {},
     "output_type": "execute_result"
    }
   ],
   "source": [
    "a-3"
   ]
  },
  {
   "cell_type": "code",
   "execution_count": 42,
   "id": "509bdf4b",
   "metadata": {},
   "outputs": [
    {
     "data": {
      "text/plain": [
       "array([ 21,  32,  83, 104,  84,   8])"
      ]
     },
     "execution_count": 42,
     "metadata": {},
     "output_type": "execute_result"
    }
   ],
   "source": [
    "b = np.array([20,30,80,99,78,00])\n",
    "a+b "
   ]
  },
  {
   "cell_type": "code",
   "execution_count": 43,
   "id": "c6a59b9e",
   "metadata": {},
   "outputs": [
    {
     "data": {
      "text/plain": [
       "array([ 2,  4,  6, 10, 12, 16])"
      ]
     },
     "execution_count": 43,
     "metadata": {},
     "output_type": "execute_result"
    }
   ],
   "source": [
    "a * 2 "
   ]
  },
  {
   "cell_type": "code",
   "execution_count": 44,
   "id": "e367d795",
   "metadata": {},
   "outputs": [
    {
     "data": {
      "text/plain": [
       "array([0.5, 1. , 1.5, 2.5, 3. , 4. ])"
      ]
     },
     "execution_count": 44,
     "metadata": {},
     "output_type": "execute_result"
    }
   ],
   "source": [
    "a/ 2"
   ]
  },
  {
   "cell_type": "code",
   "execution_count": 45,
   "id": "f07fc49a",
   "metadata": {},
   "outputs": [
    {
     "data": {
      "text/plain": [
       "array([  1,   8,  27, 125, 216, 512])"
      ]
     },
     "execution_count": 45,
     "metadata": {},
     "output_type": "execute_result"
    }
   ],
   "source": [
    "a**3"
   ]
  },
  {
   "cell_type": "code",
   "execution_count": 46,
   "id": "677807fb",
   "metadata": {},
   "outputs": [
    {
     "data": {
      "text/plain": [
       "array([ 1.55740772, -2.18503986, -0.14254654, -3.38051501, -0.29100619,\n",
       "       -6.79971146])"
      ]
     },
     "execution_count": 46,
     "metadata": {},
     "output_type": "execute_result"
    }
   ],
   "source": [
    "#trignometric functions\n",
    "np.cos(a)\n",
    "np.sin(a)\n",
    "np.tan(a)"
   ]
  },
  {
   "cell_type": "markdown",
   "id": "73c0b118",
   "metadata": {},
   "source": [
    "## Linear Algebra"
   ]
  },
  {
   "cell_type": "code",
   "execution_count": null,
   "id": "4af81ffb",
   "metadata": {},
   "outputs": [
    {
     "name": "stdout",
     "output_type": "stream",
     "text": [
      "[[0.         0.         0.        ]\n",
      " [3.29694682 2.98770807 2.69013588]\n",
      " [0.         0.         0.        ]]\n"
     ]
    }
   ],
   "source": [
    "#matrix multiplication \n",
    "#according to the rule of matrices, matrix multiplication will only\n",
    "#occur when no. of column of 1st matches no. of rows of 2nd matrix\n",
    "m1= np.random.randint(4, size=(3,2))\n",
    "m2 = np.random.rand(2,3)\n",
    "m3 = np.matmul(m1,m2)\n",
    "print(m3)"
   ]
  },
  {
   "cell_type": "code",
   "execution_count": 59,
   "id": "663f89af",
   "metadata": {},
   "outputs": [
    {
     "name": "stdout",
     "output_type": "stream",
     "text": [
      "determinant= 1.0\n"
     ]
    }
   ],
   "source": [
    "#finding determinant\n",
    "c = np.identity(3)\n",
    "det = np.linalg.det(c)\n",
    "print(\"determinant=\", det)"
   ]
  },
  {
   "cell_type": "code",
   "execution_count": null,
   "id": "5e68d7c7",
   "metadata": {},
   "outputs": [],
   "source": [
    "#you can also find inverse,\n",
    "#eigen values, eigen vectors using numpy"
   ]
  },
  {
   "cell_type": "markdown",
   "id": "157b484a",
   "metadata": {},
   "source": [
    "## Statistics"
   ]
  },
  {
   "cell_type": "code",
   "execution_count": 65,
   "id": "e2716874",
   "metadata": {},
   "outputs": [
    {
     "data": {
      "text/plain": [
       "array([[ 1,  2, 10,  6],\n",
       "       [ 7,  9,  8,  4]])"
      ]
     },
     "execution_count": 65,
     "metadata": {},
     "output_type": "execute_result"
    }
   ],
   "source": [
    "stats= np.array([[1,2,10,6],[7,9,8,4]])\n",
    "stats"
   ]
  },
  {
   "cell_type": "code",
   "execution_count": 62,
   "id": "6750ae20",
   "metadata": {},
   "outputs": [
    {
     "data": {
      "text/plain": [
       "np.int64(9)"
      ]
     },
     "execution_count": 62,
     "metadata": {},
     "output_type": "execute_result"
    }
   ],
   "source": [
    "np.max(stats)"
   ]
  },
  {
   "cell_type": "code",
   "execution_count": 66,
   "id": "830d6232",
   "metadata": {},
   "outputs": [
    {
     "data": {
      "text/plain": [
       "array([ 7,  9, 10,  6])"
      ]
     },
     "execution_count": 66,
     "metadata": {},
     "output_type": "execute_result"
    }
   ],
   "source": [
    "np.max(stats, axis=0)"
   ]
  },
  {
   "cell_type": "code",
   "execution_count": 68,
   "id": "35f0c2c7",
   "metadata": {},
   "outputs": [
    {
     "data": {
      "text/plain": [
       "array([1, 4])"
      ]
     },
     "execution_count": 68,
     "metadata": {},
     "output_type": "execute_result"
    }
   ],
   "source": [
    "np.min(stats, axis =1)"
   ]
  },
  {
   "cell_type": "code",
   "execution_count": 69,
   "id": "24e87e9e",
   "metadata": {},
   "outputs": [
    {
     "data": {
      "text/plain": [
       "np.int64(47)"
      ]
     },
     "execution_count": 69,
     "metadata": {},
     "output_type": "execute_result"
    }
   ],
   "source": [
    "np.sum(stats)"
   ]
  },
  {
   "cell_type": "code",
   "execution_count": 71,
   "id": "e1f6c103",
   "metadata": {},
   "outputs": [
    {
     "data": {
      "text/plain": [
       "array([ 8, 11, 18, 10])"
      ]
     },
     "execution_count": 71,
     "metadata": {},
     "output_type": "execute_result"
    }
   ],
   "source": [
    "np.sum(stats,axis=0)"
   ]
  },
  {
   "cell_type": "markdown",
   "id": "a16f8be5",
   "metadata": {},
   "source": [
    "## Reorganizing Arrays"
   ]
  },
  {
   "cell_type": "code",
   "execution_count": 75,
   "id": "1d78ea41",
   "metadata": {},
   "outputs": [
    {
     "name": "stdout",
     "output_type": "stream",
     "text": [
      "[[[3 4 5]\n",
      "  [5 7 9]]\n",
      "\n",
      " [[2 3 0]\n",
      "  [9 8 1]]]\n",
      "\n",
      "\n",
      " shape of an array is= (2, 2, 3)\n"
     ]
    }
   ],
   "source": [
    "before = np.array([[[3,4,5],[5,7,9]],[[2,3,0],[9,8,1]]])\n",
    "print(before)\n",
    "print(\"\\n\\n shape of an array is=\",before.shape)"
   ]
  },
  {
   "cell_type": "code",
   "execution_count": 80,
   "id": "c2423e85",
   "metadata": {},
   "outputs": [
    {
     "name": "stdout",
     "output_type": "stream",
     "text": [
      "[[3 4]\n",
      " [5 5]\n",
      " [7 9]\n",
      " [2 3]\n",
      " [0 9]\n",
      " [8 1]]\n",
      "\n",
      "\n",
      " [[3 4 5]\n",
      " [5 7 9]\n",
      " [2 3 0]\n",
      " [9 8 1]]\n",
      "\n",
      "\n",
      " [[3 4 5 5 7 9 2 3 0 9 8 1]]\n",
      "\n",
      "\n",
      " [[[3 4]]\n",
      "\n",
      " [[5 5]]\n",
      "\n",
      " [[7 9]]\n",
      "\n",
      " [[2 3]]\n",
      "\n",
      " [[0 9]]\n",
      "\n",
      " [[8 1]]]\n"
     ]
    }
   ],
   "source": [
    "after= before.reshape((6,2))\n",
    "print(after)\n",
    "after= before.reshape((4,3))\n",
    "print(\"\\n\\n\", after)\n",
    "after= before.reshape((1,12))\n",
    "print(\"\\n\\n\", after)\n",
    "after= before.reshape((6,1,2))\n",
    "print(\"\\n\\n\", after)"
   ]
  },
  {
   "cell_type": "code",
   "execution_count": 84,
   "id": "bb0e645c",
   "metadata": {},
   "outputs": [
    {
     "name": "stdout",
     "output_type": "stream",
     "text": [
      "[[1 2 3 4]\n",
      " [8 7 9 0]]\n"
     ]
    }
   ],
   "source": [
    "#Vertically stacking vectors\n",
    "v1= np.array([1,2,3,4])\n",
    "v2=np.array([8,7,9,0])\n",
    "\n",
    "print(np.vstack([v1,v2]))"
   ]
  },
  {
   "cell_type": "code",
   "execution_count": 86,
   "id": "c5347678",
   "metadata": {},
   "outputs": [
    {
     "data": {
      "text/plain": [
       "array([[1, 2, 3, 4],\n",
       "       [8, 7, 9, 0],\n",
       "       [1, 2, 3, 4],\n",
       "       [8, 7, 9, 0]])"
      ]
     },
     "execution_count": 86,
     "metadata": {},
     "output_type": "execute_result"
    }
   ],
   "source": [
    "np.vstack([v1,v2,v1,v2])"
   ]
  },
  {
   "cell_type": "code",
   "execution_count": 89,
   "id": "4fced6da",
   "metadata": {},
   "outputs": [
    {
     "name": "stdout",
     "output_type": "stream",
     "text": [
      "[[122 960 890 690   2  90  80  60   2  90  80  60]\n",
      " [230 304 405  20  23  34  45  23  23  34  45  23]]\n"
     ]
    }
   ],
   "source": [
    "#horizontally stacking\n",
    "h1= np.array([[2,90,80,60],[23,34,45,23]])\n",
    "h2= np.array([[122,960,890,690],[230,304,405,20]])\n",
    "\n",
    "print(np.hstack([h2,h1,h1]))"
   ]
  },
  {
   "cell_type": "markdown",
   "id": "35c92b79",
   "metadata": {},
   "source": [
    "## Load Data From File"
   ]
  },
  {
   "cell_type": "code",
   "execution_count": 95,
   "id": "331e3f1e",
   "metadata": {},
   "outputs": [
    {
     "name": "stdout",
     "output_type": "stream",
     "text": [
      "[[  1.  13.  21.  11. 196.  75.   4.   3.  34.   6.   7.   8.   0.   1.\n",
      "    2.   3.   4.   5.]\n",
      " [  3.  42.  12.  33. 766.  75.   4.  55.   6.   4.   3.   4.   5.   6.\n",
      "    7.   0.  11.  12.]\n",
      " [  1.  22.  33.  11. 999.  11.   2.   1.  78.   0.   1.   2.   9.   8.\n",
      "    7.   1.  76.  88.]]\n"
     ]
    }
   ],
   "source": [
    "file = np.genfromtxt(\"data.txt\", delimiter = \",\")\n",
    "print(file)"
   ]
  },
  {
   "cell_type": "code",
   "execution_count": 97,
   "id": "a543fd17",
   "metadata": {},
   "outputs": [
    {
     "data": {
      "text/plain": [
       "array([[  1,  13,  21,  11, 196,  75,   4,   3,  34,   6,   7,   8,   0,\n",
       "          1,   2,   3,   4,   5],\n",
       "       [  3,  42,  12,  33, 766,  75,   4,  55,   6,   4,   3,   4,   5,\n",
       "          6,   7,   0,  11,  12],\n",
       "       [  1,  22,  33,  11, 999,  11,   2,   1,  78,   0,   1,   2,   9,\n",
       "          8,   7,   1,  76,  88]], dtype=int32)"
      ]
     },
     "execution_count": 97,
     "metadata": {},
     "output_type": "execute_result"
    }
   ],
   "source": [
    "file= file.astype('int32')\n",
    "file"
   ]
  },
  {
   "cell_type": "code",
   "execution_count": null,
   "id": "ffc273ba",
   "metadata": {},
   "outputs": [
    {
     "data": {
      "text/plain": [
       "array([[False, False, False, False,  True,  True, False, False, False,\n",
       "        False, False, False, False, False, False, False, False, False],\n",
       "       [False, False, False, False,  True,  True, False,  True, False,\n",
       "        False, False, False, False, False, False, False, False, False],\n",
       "       [False, False, False, False,  True, False, False, False,  True,\n",
       "        False, False, False, False, False, False, False,  True,  True]])"
      ]
     },
     "execution_count": 98,
     "metadata": {},
     "output_type": "execute_result"
    }
   ],
   "source": [
    "file>50 #checks for numbers greater than 50 and returns true"
   ]
  },
  {
   "cell_type": "code",
   "execution_count": null,
   "id": "d2cdded8",
   "metadata": {},
   "outputs": [
    {
     "data": {
      "text/plain": [
       "array([ 1, 13, 21, 11,  4,  3, 34,  6,  7,  8,  0,  1,  2,  3,  4,  5,  3,\n",
       "       42, 12, 33,  4,  6,  4,  3,  4,  5,  6,  7,  0, 11, 12,  1, 22, 33,\n",
       "       11, 11,  2,  1,  0,  1,  2,  9,  8,  7,  1], dtype=int32)"
      ]
     },
     "execution_count": 99,
     "metadata": {},
     "output_type": "execute_result"
    }
   ],
   "source": [
    "file[file<50] #indexes less than 50 appears"
   ]
  },
  {
   "cell_type": "code",
   "execution_count": null,
   "id": "639eb395",
   "metadata": {},
   "outputs": [
    {
     "data": {
      "text/plain": [
       "array([False, False, False, False,  True,  True, False,  True,  True,\n",
       "       False, False, False, False, False, False, False,  True,  True])"
      ]
     },
     "execution_count": 109,
     "metadata": {},
     "output_type": "execute_result"
    }
   ],
   "source": [
    "np.any(file >50, axis =0) \n",
    "#column wise checking if any data is greater than 50"
   ]
  },
  {
   "cell_type": "code",
   "execution_count": null,
   "id": "c3122981",
   "metadata": {},
   "outputs": [
    {
     "data": {
      "text/plain": [
       "array([[False, False,  True, False, False,  True, False, False,  True,\n",
       "        False, False, False, False, False, False, False, False, False],\n",
       "       [False,  True, False,  True, False,  True, False,  True, False,\n",
       "        False, False, False, False, False, False, False, False, False],\n",
       "       [False,  True,  True, False, False, False, False, False,  True,\n",
       "        False, False, False, False, False, False, False,  True, False]])"
      ]
     },
     "execution_count": 111,
     "metadata": {},
     "output_type": "execute_result"
    }
   ],
   "source": [
    "(file >20 ) & (file<80)  \n",
    "#return true for the numbers that are in range 20 to 80"
   ]
  },
  {
   "cell_type": "markdown",
   "id": "5a9ae0c8",
   "metadata": {},
   "source": [
    "# Question 2"
   ]
  },
  {
   "cell_type": "code",
   "execution_count": 114,
   "id": "eafa50a5",
   "metadata": {},
   "outputs": [
    {
     "name": "stdout",
     "output_type": "stream",
     "text": [
      "[[ 1  2  3  4  5]\n",
      " [ 6  7  8  9 10]\n",
      " [11 12 13 14 15]\n",
      " [16 17 18 19 20]\n",
      " [21 22 23 24 25]\n",
      " [26 27 28 29 30]]\n"
     ]
    }
   ],
   "source": [
    "test= np.array([[1,2,3,4,5],[6,7,8,9,10],[11,12,13,14,15],[16,17,18,19,20],[21,22,23,24,25],[26,27,28,29,30]])\n",
    "print(test)"
   ]
  },
  {
   "cell_type": "code",
   "execution_count": 116,
   "id": "112aac89",
   "metadata": {},
   "outputs": [
    {
     "data": {
      "text/plain": [
       "array([[11, 12],\n",
       "       [16, 17]])"
      ]
     },
     "execution_count": 116,
     "metadata": {},
     "output_type": "execute_result"
    }
   ],
   "source": [
    "test[2:4 ,0:2]\n"
   ]
  },
  {
   "cell_type": "code",
   "execution_count": null,
   "id": "69cf264f",
   "metadata": {},
   "outputs": [
    {
     "data": {
      "text/plain": [
       "array([ 2,  8, 14, 20])"
      ]
     },
     "execution_count": 118,
     "metadata": {},
     "output_type": "execute_result"
    }
   ],
   "source": [
    "test[[0,1,2,3],[1,2,3,4]] #using listing of indexes"
   ]
  },
  {
   "cell_type": "code",
   "execution_count": 121,
   "id": "6e57462c",
   "metadata": {},
   "outputs": [
    {
     "data": {
      "text/plain": [
       "array([[ 4,  5],\n",
       "       [24, 25],\n",
       "       [29, 30]])"
      ]
     },
     "execution_count": 121,
     "metadata": {},
     "output_type": "execute_result"
    }
   ],
   "source": [
    "test[[0,4,5], 3:]"
   ]
  },
  {
   "cell_type": "markdown",
   "id": "39662d21",
   "metadata": {},
   "source": [
    "##### peace :]"
   ]
  }
 ],
 "metadata": {
  "kernelspec": {
   "display_name": "Python 3",
   "language": "python",
   "name": "python3"
  },
  "language_info": {
   "codemirror_mode": {
    "name": "ipython",
    "version": 3
   },
   "file_extension": ".py",
   "mimetype": "text/x-python",
   "name": "python",
   "nbconvert_exporter": "python",
   "pygments_lexer": "ipython3",
   "version": "3.13.3"
  }
 },
 "nbformat": 4,
 "nbformat_minor": 5
}
